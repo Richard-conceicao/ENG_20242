1. Lista de inteiros com elementos multiplicados por 2:



lista = [3, 7, 10, 15, 20]
for num in lista:
    print(num * 2)

2. Atualização da lista de frutas:



frutas = ["maçã", "banana", "laranja", "uva"]
frutas[1] = "melancia"
print(frutas)

3. Maior e menor número em uma lista:



numeros = [12, 45, 2, 33, 89, 5]
maior = max(numeros)
menor = min(numeros)
print(f"Maior número: {maior}, Menor número: {menor}")

4. Função que retorna o número de letras de cada palavra:



def conta_letras(palavras):
    return [len(palavra) for palavra in palavras]

palavras = ["cachorro", "gato", "elefante", "papagaio"]
print(conta_letras(palavras))

5. Ordenação de uma lista de inteiros:



lista_numeros = [15, 3, 9, 20, 7]
lista_ordenada = sorted(lista_numeros)
print(lista_ordenada)

6. Tentativa de modificar uma tupla:



tupla = (1, 2, 3, 4, 5)
# tupla[1] = 10  # Isto resultará em um erro porque tuplas são imutáveis.
print("As tuplas são imutáveis, então não é possível alterar diretamente seus elementos.")

7. Soma dos elementos de uma tupla:



tupla = (5, 10, 15, 20, 25)
soma = sum(tupla)
print(f"Soma dos elementos da tupla: {soma}")

8. Função que retorna o primeiro e o último número de uma tupla:



def primeiro_ultimo(tupla):
    return tupla[0], tupla[-1]

numeros = (4, 8, 15, 16, 23)
primeiro, ultimo = primeiro_ultimo(numeros)
print(f"Primeiro: {primeiro}, Último: {ultimo}")

9. Conversão de uma lista em uma tupla e exibição do tipo:



lista = ["a", "b", "c", "d"]
tupla = tuple(lista)
print(type(tupla))  # Deve exibir: <class 'tuple'>

10. Verificação da presença do número 3 em uma tupla:



tupla = (1, 2, 3, "texto")
if 3 in tupla:
    print("O número 3 foi encontrado na tupla.")
else:
    print("O número 3 não foi encontrado na tupla.")

11. Operações com sets:



set1 = {1, 2, 3, 4}
set2 = {3, 4, 5, 6}
uniao = set1.union(set2)
intersecao = set1.intersection(set2)
diferenca = set1.difference(set2)

print(f"União: {uniao}")
print(f"Interseção: {intersecao}")
print(f"Diferença: {diferenca}")

12. Remoção de duplicatas transformando uma lista em set:



lista = [1, 2, 2, 3, 4, 4, 5]
set_unico = set(lista)
print(set_unico)

13. Adição e remoção de elementos em um set:



set_valores = {5, 10, 15, 20}
set_valores.add(25)
print("Após adicionar 25:", set_valores)
set_valores.remove(15)
print("Após remover 15:", set_valores)

14. Verificação da presença do número 7 em um set:



set_valores = {1, 2, 3, 4, 5}
if 7 in set_valores:
    print("O número 7 foi encontrado no set.")
else:
    print("O número 7 não foi encontrado no set.")

15. Criação de um set usando laço de repetição:



set_vazio = set()
for i in range(1, 6):
    set_vazio.add(i)
print(set_vazio)

16. Criação e atualização de um dicionário:



dicionario = {'nome': 'Ana', 'idade': 22, 'curso': 'Engenharia'}
dicionario['universidade'] = 'USP'
print(dicionario)

17. Percorrendo um dicionário e imprimindo chaves e valores:



dicionario = {'a': 1, 'b': 2, 'c': 3}
for chave, valor in dicionario.items():
    print(f"Chave: {chave}, Valor: {valor}")

18. Cálculo da média das notas de um dicionário:



def media_notas(dicionario):
    media = sum(dicionario.values()) / len(dicionario)
    print(f"Média das notas: {media}")

notas_alunos = {'João': 7.5, 'Maria': 8.0, 'Pedro': 6.5}
media_notas(notas_alunos)

19. Busca de valor por chave em um dicionário:



dicionario = {'chave1': 10, 'chave2': 20, 'chave3': 30}
chave = input("Digite a chave que deseja buscar: ")
if chave in dicionario:
    print(f"Valor encontrado: {dicionario[chave]}")
else:
    print("Chave não encontrada.")

20. Alteração de valor em um dicionário de produtos:



produtos = {'pão': 2.50, 'leite': 3.00, 'café': 4.50}
produto = input("Digite o produto que deseja alterar: ")
if produto in produtos:
    novo_preco = float(input(f"Digite o novo preço para {produto}: "))
    produtos[produto] = novo_preco
    print("Dicionário atualizado:", produtos)
else:
    print("Produto não encontrado.")
