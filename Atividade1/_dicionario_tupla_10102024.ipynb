# Exercício #1
cidades = ('São Paulo', 'Rio de Janeiro', 'Belo Horizonte', 'Salvador', 'Fortaleza')
print("Terceira cidade:", cidades[2])

# Exercício #2
numeros = (1, 2, 3, 1, 4, 1)
print("O número 1 aparece", numeros.count(1), "vezes na tupla.")

# Exercício #3
animais = ('cachorro', 'gato', 'pássaro')
if 'gato' in animais:
    print("O 'gato' está na tupla de animais.")
else:
    print("O 'gato' não está na tupla de animais.")

# Exercício #4
meses = ('janeiro', 'fevereiro', 'março', 'abril', 'maio')
print("Índice do mês 'abril':", meses.index('abril'))

# Exercício #5
coordenadas = (-23.5505, -46.6333)
print("Latitude:", coordenadas[0])
print("Longitude:", coordenadas[1])

# Exercício #6
carro = {'marca': 'Toyota', 'modelo': 'Corolla', 'ano': 2020}
print("Modelo do carro:", carro['modelo'])

# Exercício #7
carro['cor'] = 'preto'
print("Dicionário carro atualizado:", carro)

# Exercício #8
pessoa = {'nome': 'João', 'idade': 30, 'cidade': 'São Paulo'}
pessoa.pop('idade')
print("Dicionário pessoa atualizado:", pessoa)

# Exercício #9
produto = {'nome': 'Caneta', 'preco': 1.50, 'quantidade': 10}
for chave, valor in produto.items():
    print(chave, ":", valor)

# Exercício #10
estudante = {'nome': 'Maria', 'curso': 'Biologia', 'ano': 2}
if 'curso' in estudante:
    print("A estudante está no curso de Biologia.")
